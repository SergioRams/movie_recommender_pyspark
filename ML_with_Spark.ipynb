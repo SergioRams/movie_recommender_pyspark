{
 "cells": [
  {
   "cell_type": "markdown",
   "metadata": {},
   "source": [
    "# Movie recomender system using PySpark\n",
    "under construction..."
   ]
  },
  {
   "cell_type": "code",
   "execution_count": 1,
   "metadata": {},
   "outputs": [],
   "source": [
    "import pandas as pd\n",
    "\n",
    "# spark libs.\n",
    "from pyspark.context import SparkContext\n",
    "from pyspark.sql import Row\n",
    "from pyspark.sql.session import SparkSession\n",
    "from pyspark.sql.functions import lower, col, when, regexp_replace\n",
    "\n",
    "# spark datatypes\n",
    "from pyspark.sql.types import *\n",
    "\n",
    "# sparm MLlib\n",
    "from pyspark.ml.recommendation import ALS\n",
    "\n",
    "# check Spark UI from \n",
    "# http://localhost:4040"
   ]
  },
  {
   "cell_type": "markdown",
   "metadata": {},
   "source": [
    "### Creating spark session and setting up number of partitions."
   ]
  },
  {
   "cell_type": "code",
   "execution_count": 2,
   "metadata": {},
   "outputs": [],
   "source": [
    "# creating spark local machine session.\n",
    "sc = SparkContext('local')\n",
    "spark = SparkSession(sc)\n",
    "\n",
    "# setup 5 partitions since data is not \"big-data\", and is running locally.\n",
    "spark.conf.set(\"spark.sql.shuffle.partitions\", \"5\")"
   ]
  },
  {
   "cell_type": "markdown",
   "metadata": {},
   "source": [
    "### Reading movie data from CSV files into Spark DataFrames.\n",
    "We could let Spark '<b>infer</b>' the schema but in this case we do the <b>explicit</b> datyping as good practice."
   ]
  },
  {
   "cell_type": "code",
   "execution_count": 3,
   "metadata": {},
   "outputs": [],
   "source": [
    "# define schemas (DataFrame's Metadata) to load CSV into Spark DataFrame\n",
    "\n",
    "# USER SCHEMA\n",
    "# user id | age | gender | occupation | zip code\n",
    "user_schema =  StructType([\n",
    "                    StructField(\"user_id\", ShortType(), False), # False = not null\n",
    "                    StructField(\"age\", ByteType(), True),\n",
    "                    StructField(\"gender\", StringType(), True),\n",
    "                    StructField(\"occupation\", StringType(), True),\n",
    "                    StructField(\"zip\", StringType(), True),\n",
    "                ])\n",
    "\n",
    "# GENRE SCHEMA\n",
    "# genre | genre_id\n",
    "genre_schema = StructType([\n",
    "                    StructField(\"genre\", StringType(), True),\n",
    "                    StructField(\"genre_id\", ShortType(), False), # False = not null\n",
    "                ])\n",
    "\n",
    "# MOVIE SCHEMA \n",
    "# movie id | movie title | release date | video release date | IMDb URL | unknown | Action | \n",
    "# Adventure | Animation | Children's | Comedy | Crime | Documentary | Drama | Fantasy |\n",
    "# Film-Noir | Horror | Musical | Mystery | Romance | Sci-Fi | Thriller | War | Western |\n",
    "movie_schema = StructType([\n",
    "                    StructField(\"movie_id\", ShortType(), False), # False = not null\n",
    "                    StructField(\"title\", StringType(), True),\n",
    "                    StructField(\"release_date\", StringType(), True), # format: 01-Jan-1995\n",
    "                    StructField(\"video_date\", StringType(), True), # format: 01-Jan-1995\n",
    "                    StructField(\"url\", StringType(), True),\n",
    "                    StructField(\"unknown\", ByteType(), True),\n",
    "                    StructField(\"action\", ByteType(), True),\n",
    "                    StructField(\"adventure\", ByteType(), True),\n",
    "                    StructField(\"animation\", ByteType(), True),\n",
    "                    StructField(\"children\", ByteType(), True),\n",
    "                    StructField(\"comedy\", ByteType(), True),\n",
    "                    StructField(\"crime\", ByteType(), True),\n",
    "                    StructField(\"documentary\", ByteType(), True),\n",
    "                    StructField(\"drama\", ByteType(), True),\n",
    "                    StructField(\"fantasy\", ByteType(), True),\n",
    "                    StructField(\"film_noir\", ByteType(), True),\n",
    "                    StructField(\"horror\", ByteType(), True),\n",
    "                    StructField(\"musical\", ByteType(), True),\n",
    "                    StructField(\"mystery\", ByteType(), True),\n",
    "                    StructField(\"romance\", ByteType(), True),\n",
    "                    StructField(\"sci_fi\", ByteType(), True),\n",
    "                    StructField(\"thriller\", ByteType(), True),\n",
    "                    StructField(\"war\", ByteType(), True),\n",
    "                    StructField(\"western\", ByteType(), True),\n",
    "            ])\n",
    "\n",
    "# USER-MOVIE RATINGS SCHEMA\n",
    "# user id | item id | rating | timestamp\n",
    "rating_schema = StructType([\n",
    "                    StructField(\"user_id\", ShortType(), False), # False = not null\n",
    "                    StructField(\"movie_id\", ShortType(), False),\n",
    "                    StructField(\"rating\", ShortType(), False),\n",
    "                    StructField(\"timestamp\", StringType(), True),\n",
    "                    #StructField(\"timestamp\", TimestampType(), True), \n",
    "                ])\n"
   ]
  },
  {
   "cell_type": "code",
   "execution_count": 4,
   "metadata": {},
   "outputs": [],
   "source": [
    "def read_csv(path, name, schema, delimiter=','):\n",
    "    \"\"\"\n",
    "    Takes in the path, name and schema of the CSV\n",
    "    Returns a Spark DataFrame.\n",
    "    \"\"\"\n",
    "    \n",
    "    fullpath = path + name\n",
    "\n",
    "    # read CSV using the provided schema.\n",
    "    dataframe = spark.read.format(\"csv\")\\\n",
    "        .schema(schema)\\\n",
    "        .option(\"header\", \"false\")\\\n",
    "        .option(\"delimiter\", delimiter)\\\n",
    "        .option(\"mode\", \"FAILFAST\")\\\n",
    "        .load(fullpath)\n",
    "\n",
    "    return dataframe\n",
    "\n",
    "# load CSVs into Spark.\n",
    "user_df = read_csv( path='ml-100k/', name='u.user', schema=user_schema, delimiter='|' )\n",
    "genre_df = read_csv( path='ml-100k/', name='u.genre', schema=genre_schema, delimiter='|' )\n",
    "movie_df = read_csv( path='ml-100k/', name='u.item', schema=movie_schema, delimiter='|' )\n",
    "rating_df = read_csv( path='ml-100k/', name='u.data', schema=rating_schema, delimiter='\\t' )\n",
    "\n",
    "# create Spark tables to enable use of SQL.\n",
    "user_df.createOrReplaceTempView('user_df')\n",
    "genre_df.createOrReplaceTempView('genre_df')\n",
    "movie_df.createOrReplaceTempView('movie_df')\n",
    "rating_df.createOrReplaceTempView('rating_df')"
   ]
  },
  {
   "cell_type": "code",
   "execution_count": 5,
   "metadata": {},
   "outputs": [
    {
     "name": "stdout",
     "output_type": "stream",
     "text": [
      "root\n",
      " |-- movie_id: short (nullable = true)\n",
      " |-- title: string (nullable = true)\n",
      " |-- release_date: string (nullable = true)\n",
      " |-- video_date: string (nullable = true)\n",
      " |-- url: string (nullable = true)\n",
      " |-- unknown: byte (nullable = true)\n",
      " |-- action: byte (nullable = true)\n",
      " |-- adventure: byte (nullable = true)\n",
      " |-- animation: byte (nullable = true)\n",
      " |-- children: byte (nullable = true)\n",
      " |-- comedy: byte (nullable = true)\n",
      " |-- crime: byte (nullable = true)\n",
      " |-- documentary: byte (nullable = true)\n",
      " |-- drama: byte (nullable = true)\n",
      " |-- fantasy: byte (nullable = true)\n",
      " |-- film_noir: byte (nullable = true)\n",
      " |-- horror: byte (nullable = true)\n",
      " |-- musical: byte (nullable = true)\n",
      " |-- mystery: byte (nullable = true)\n",
      " |-- romance: byte (nullable = true)\n",
      " |-- sci_fi: byte (nullable = true)\n",
      " |-- thriller: byte (nullable = true)\n",
      " |-- war: byte (nullable = true)\n",
      " |-- western: byte (nullable = true)\n",
      "\n",
      "Total Movies:1682\n"
     ]
    }
   ],
   "source": [
    "# checking movie DataFrame datatypes.\n",
    "movie_df.printSchema()\n",
    "print(f'Total Movies:{movie_df.count()}')"
   ]
  },
  {
   "cell_type": "code",
   "execution_count": 6,
   "metadata": {},
   "outputs": [
    {
     "name": "stdout",
     "output_type": "stream",
     "text": [
      "+-------+---+------+----------+-----+\n",
      "|user_id|age|gender|occupation|  zip|\n",
      "+-------+---+------+----------+-----+\n",
      "|      1| 24|     M|technician|85711|\n",
      "|      2| 53|     F|     other|94043|\n",
      "|      3| 23|     M|    writer|32067|\n",
      "|      4| 24|     M|technician|43537|\n",
      "|      5| 33|     F|     other|15213|\n",
      "+-------+---+------+----------+-----+\n",
      "only showing top 5 rows\n",
      "\n",
      "Total Users:943\n"
     ]
    }
   ],
   "source": [
    "# print top 5 rows nicely with show()\n",
    "user_df.show(5)\n",
    "print(f'Total Users:{user_df.count()}')"
   ]
  },
  {
   "cell_type": "code",
   "execution_count": 7,
   "metadata": {},
   "outputs": [
    {
     "name": "stdout",
     "output_type": "stream",
     "text": [
      "[Row(genre='unknown', genre_id=0), Row(genre='Action', genre_id=1), Row(genre='Adventure', genre_id=2), Row(genre='Animation', genre_id=3), Row(genre=\"Children's\", genre_id=4)]\n",
      "\n",
      "Total genres:19\n"
     ]
    }
   ],
   "source": [
    "# get top 5 genre rows with take()\n",
    "print(genre_df.take(5))\n",
    "print(f'\\nTotal genres:{genre_df.count()}')"
   ]
  },
  {
   "cell_type": "code",
   "execution_count": 8,
   "metadata": {},
   "outputs": [
    {
     "name": "stdout",
     "output_type": "stream",
     "text": [
      "[Row(movie_id=1, title='Toy Story (1995)', release_date='01-Jan-1995', video_date=None, url='http://us.imdb.com/M/title-exact?Toy%20Story%20(1995)', unknown=0, action=0, adventure=0, animation=1, children=1, comedy=1, crime=0, documentary=0, drama=0, fantasy=0, film_noir=0, horror=0, musical=0, mystery=0, romance=0, sci_fi=0, thriller=0, war=0, western=0), Row(movie_id=2, title='GoldenEye (1995)', release_date='01-Jan-1995', video_date=None, url='http://us.imdb.com/M/title-exact?GoldenEye%20(1995)', unknown=0, action=1, adventure=1, animation=0, children=0, comedy=0, crime=0, documentary=0, drama=0, fantasy=0, film_noir=0, horror=0, musical=0, mystery=0, romance=0, sci_fi=0, thriller=1, war=0, western=0)]\n",
      "\n",
      "Total movies:1682\n"
     ]
    }
   ],
   "source": [
    "# get top movies rows.\n",
    "print(movie_df.take(2))\n",
    "print(f'\\nTotal movies:{movie_df.count()}')"
   ]
  },
  {
   "cell_type": "code",
   "execution_count": 9,
   "metadata": {},
   "outputs": [
    {
     "name": "stdout",
     "output_type": "stream",
     "text": [
      "+-------+--------+------+---------+\n",
      "|user_id|movie_id|rating|timestamp|\n",
      "+-------+--------+------+---------+\n",
      "|    196|     242|     3|881250949|\n",
      "|    186|     302|     3|891717742|\n",
      "|     22|     377|     1|878887116|\n",
      "|    244|      51|     2|880606923|\n",
      "|    166|     346|     1|886397596|\n",
      "+-------+--------+------+---------+\n",
      "only showing top 5 rows\n",
      "\n",
      "\n",
      "Total ratings:100000\n"
     ]
    }
   ],
   "source": [
    "# print top 5 ratings.\n",
    "rating_df.show(5)\n",
    "print(f'\\nTotal ratings:{rating_df.count()}')"
   ]
  },
  {
   "cell_type": "markdown",
   "metadata": {},
   "source": [
    "### Making some adjustmens to genre names, lowecase and replacing dash for underscore."
   ]
  },
  {
   "cell_type": "code",
   "execution_count": 10,
   "metadata": {
    "scrolled": false
   },
   "outputs": [
    {
     "name": "stdout",
     "output_type": "stream",
     "text": [
      "+-----------+--------+\n",
      "|      genre|genre_id|\n",
      "+-----------+--------+\n",
      "|    unknown|       0|\n",
      "|     action|       1|\n",
      "|  adventure|       2|\n",
      "|  animation|       3|\n",
      "|   children|       4|\n",
      "|     comedy|       5|\n",
      "|      crime|       6|\n",
      "|documentary|       7|\n",
      "|      drama|       8|\n",
      "|    fantasy|       9|\n",
      "|  film_noir|      10|\n",
      "|     horror|      11|\n",
      "|    musical|      12|\n",
      "|    mystery|      13|\n",
      "|    romance|      14|\n",
      "|     sci_fi|      15|\n",
      "|   thriller|      16|\n",
      "|        war|      17|\n",
      "|    western|      18|\n",
      "+-----------+--------+\n",
      "\n"
     ]
    }
   ],
   "source": [
    "# different ways to update a Spark DataFrame\n",
    "genre_df = genre_df.withColumn('genre', lower(col('genre')))\n",
    "genre_df = genre_df.withColumn('genre', when(col('genre') == \"children's\", 'children').otherwise(col('genre')))\n",
    "genre_df = genre_df.withColumn('genre', regexp_replace('genre', '-', '_'))\n",
    "genre_df.createOrReplaceTempView('genre_df')\n",
    "\n",
    "genre_df.show()"
   ]
  },
  {
   "cell_type": "markdown",
   "metadata": {},
   "source": [
    "#### Movie table is not normalized to second normal form, we need can fix that to make it easier to query with SQL.\n",
    "First we create a movie-genre table, which is a many to many relationship between movie and genre tables."
   ]
  },
  {
   "cell_type": "code",
   "execution_count": 11,
   "metadata": {},
   "outputs": [
    {
     "name": "stdout",
     "output_type": "stream",
     "text": [
      "+--------+--------+\n",
      "|movie_id|genre_id|\n",
      "+--------+--------+\n",
      "+--------+--------+\n",
      "\n"
     ]
    }
   ],
   "source": [
    "# MOVIE-GENRE SCHEMA\n",
    "movie_genre_schema = StructType([\n",
    "                        StructField(\"movie_id\", ShortType(), True),\n",
    "                        StructField(\"genre_id\", ShortType(), True),\n",
    "                    ])\n",
    "\n",
    "# create empty DataFrame\n",
    "movie_genre_df = spark.createDataFrame(sc.emptyRDD(), movie_genre_schema)\n",
    "movie_genre_df.createOrReplaceTempView('movie_genre_df')\n",
    "movie_genre_df.show()"
   ]
  },
  {
   "cell_type": "code",
   "execution_count": 12,
   "metadata": {},
   "outputs": [
    {
     "name": "stdout",
     "output_type": "stream",
     "text": [
      "Inserting: 0 unknown\n",
      "Inserting: 1 action\n",
      "Inserting: 2 adventure\n",
      "Inserting: 3 animation\n",
      "Inserting: 4 children\n",
      "Inserting: 5 comedy\n",
      "Inserting: 6 crime\n",
      "Inserting: 7 documentary\n",
      "Inserting: 8 drama\n",
      "Inserting: 9 fantasy\n",
      "Inserting: 10 film_noir\n",
      "Inserting: 11 horror\n",
      "Inserting: 12 musical\n",
      "Inserting: 13 mystery\n",
      "Inserting: 14 romance\n",
      "Inserting: 15 sci_fi\n",
      "Inserting: 16 thriller\n",
      "Inserting: 17 war\n",
      "Inserting: 18 western\n"
     ]
    }
   ],
   "source": [
    "# collect all movie records from every genre and insert into new table.\n",
    "for genre in genre_df.collect():\n",
    "    # get all records from given genre\n",
    "    records = spark.sql(\n",
    "                f\"\"\"\n",
    "                SELECT movie_id, {genre.genre_id} genre_id\n",
    "                FROM movie_df\n",
    "                WHERE {genre.genre} = 1\n",
    "                \"\"\"\n",
    "            ).collect()\n",
    "    \n",
    "    print(f'Inserting: {genre.genre_id} {genre.genre}')\n",
    "    \n",
    "    # insert records into new table\n",
    "    parallelized_rows = spark.sparkContext.parallelize(records)\n",
    "    insert_rows = spark.createDataFrame(parallelized_rows, movie_genre_schema)\n",
    "    movie_genre_df = movie_genre_df.union(insert_rows)\n",
    "\n",
    "movie_genre_df.createOrReplaceTempView('movie_genre_df')"
   ]
  },
  {
   "cell_type": "code",
   "execution_count": 13,
   "metadata": {},
   "outputs": [
    {
     "name": "stdout",
     "output_type": "stream",
     "text": [
      "+--------+--------+\n",
      "|movie_id|genre_id|\n",
      "+--------+--------+\n",
      "|     267|       0|\n",
      "|    1373|       0|\n",
      "|       2|       1|\n",
      "|       4|       1|\n",
      "|      17|       1|\n",
      "|      21|       1|\n",
      "|      22|       1|\n",
      "|      24|       1|\n",
      "|      27|       1|\n",
      "|      28|       1|\n",
      "+--------+--------+\n",
      "only showing top 10 rows\n",
      "\n"
     ]
    }
   ],
   "source": [
    "movie_genre_df.show(10)"
   ]
  },
  {
   "cell_type": "markdown",
   "metadata": {},
   "source": [
    "## Spark SQL\n",
    "Testing Spark SQL: get movies that belong to more than one genre."
   ]
  },
  {
   "cell_type": "code",
   "execution_count": 14,
   "metadata": {},
   "outputs": [
    {
     "name": "stdout",
     "output_type": "stream",
     "text": [
      "+--------+--------------------+------+\n",
      "|movie_id|               title|genres|\n",
      "+--------+--------------------+------+\n",
      "|     560|Kid in King Arthu...|     6|\n",
      "|     172|Empire Strikes Ba...|     6|\n",
      "|     426|Transformers: The...|     6|\n",
      "|     855|         Diva (1981)|     5|\n",
      "|    1076|Pagemaster, The (...|     5|\n",
      "|     755|      Jumanji (1995)|     5|\n",
      "|      21|Muppet Treasure I...|     5|\n",
      "|     181|Return of the Jed...|     5|\n",
      "|     820|    Space Jam (1996)|     5|\n",
      "|     993|     Hercules (1997)|     5|\n",
      "|     101|  Heavy Metal (1981)|     5|\n",
      "|     184|Army of Darkness ...|     5|\n",
      "|      17|From Dusk Till Da...|     5|\n",
      "|      50|    Star Wars (1977)|     5|\n",
      "|     411|Nutty Professor, ...|     4|\n",
      "+--------+--------------------+------+\n",
      "only showing top 15 rows\n",
      "\n"
     ]
    }
   ],
   "source": [
    "spark.sql(\n",
    "    \"\"\"\n",
    "    SELECT \n",
    "        m.movie_id,\n",
    "        m.title,\n",
    "        genres.genres\n",
    "    \n",
    "    FROM (\n",
    "        SELECT movie_id, COUNT(genre_id) genres\n",
    "        FROM movie_genre_df\n",
    "        GROUP BY movie_id\n",
    "        HAVING COUNT(genre_id) > 1\n",
    "        ) genres\n",
    "\n",
    "    JOIN movie_df m ON genres.movie_id = m.movie_id\n",
    "    ORDER BY genres.genres DESC\n",
    "    \"\"\"\n",
    ").show(15)"
   ]
  },
  {
   "cell_type": "markdown",
   "metadata": {},
   "source": [
    "### Create some views to get the ratings."
   ]
  },
  {
   "cell_type": "code",
   "execution_count": 15,
   "metadata": {},
   "outputs": [
    {
     "data": {
      "text/plain": [
       "DataFrame[]"
      ]
     },
     "execution_count": 15,
     "metadata": {},
     "output_type": "execute_result"
    }
   ],
   "source": [
    "# create a temporary SQL view that gets all movie ratings by genre.\n",
    "spark.sql(\n",
    "    \"\"\"\n",
    "    CREATE OR REPLACE TEMP VIEW movie_rating_vw AS\n",
    "        SELECT mg.genre_id, mg.movie_id, SUM(r.rating)/COUNT(r.rating) movie_rating\n",
    "        FROM movie_genre_df mg\n",
    "            JOIN rating_df r ON mg.movie_id = r.movie_id\n",
    "        GROUP BY mg.genre_id, mg.movie_id\n",
    "    \"\"\"\n",
    "    )\n",
    "\n",
    "# create a temporary SQL view that gets all movie ratings by Date.\n",
    "spark.sql(\n",
    "    \"\"\"\n",
    "    CREATE OR REPLACE TEMP VIEW movie_rating_date_vw AS\n",
    "        SELECT YEAR(TO_DATE(release_date, 'dd-MMM-yyyy')) release_date,\n",
    "            mg.movie_id,\n",
    "            SUM(r.rating)/COUNT(r.rating) movie_rating\n",
    "        FROM movie_genre_df mg\n",
    "            JOIN movie_df m ON mg.movie_id = m.movie_id\n",
    "            JOIN rating_df r ON mg.movie_id = r.movie_id\n",
    "        WHERE release_date IS NOT NULL\n",
    "        GROUP BY TO_DATE(release_date, 'dd-MMM-yyyy'), mg.movie_id\n",
    "    \"\"\"\n",
    "    )"
   ]
  },
  {
   "cell_type": "markdown",
   "metadata": {},
   "source": [
    "### Get top movies from each genre."
   ]
  },
  {
   "cell_type": "code",
   "execution_count": 16,
   "metadata": {
    "scrolled": false
   },
   "outputs": [
    {
     "name": "stdout",
     "output_type": "stream",
     "text": [
      "+-----------+--------------------+----------+\n",
      "|      genre|               title|top_rating|\n",
      "+-----------+--------------------+----------+\n",
      "|     action|    Star Wars (1977)|      4.36|\n",
      "|  adventure|     Star Kid (1997)|       5.0|\n",
      "|  animation|Close Shave, A (1...|      4.49|\n",
      "|   children|     Star Kid (1997)|       5.0|\n",
      "|     comedy|Santa with Muscle...|       5.0|\n",
      "|      crime|They Made Me a Cr...|       5.0|\n",
      "|documentary|Great Day in Harl...|       5.0|\n",
      "|documentary|Marlene Dietrich:...|       5.0|\n",
      "|      drama|They Made Me a Cr...|       5.0|\n",
      "|      drama|Entertaining Ange...|       5.0|\n",
      "|      drama|Saint of Fort Was...|       5.0|\n",
      "|      drama|Aiqing wansui (1994)|       5.0|\n",
      "|      drama|Someone Else's Am...|       5.0|\n",
      "|      drama|  Prefontaine (1997)|       5.0|\n",
      "|    fantasy|     Star Kid (1997)|       5.0|\n",
      "|  film_noir|Manchurian Candid...|      4.26|\n",
      "|     horror|       Psycho (1960)|       4.1|\n",
      "|    musical|Wizard of Oz, The...|      4.08|\n",
      "|    mystery|  Rear Window (1954)|      4.39|\n",
      "|    romance|   Casablanca (1942)|      4.46|\n",
      "|     sci_fi|     Star Kid (1997)|       5.0|\n",
      "|   thriller|Close Shave, A (1...|      4.49|\n",
      "|    unknown|             unknown|      3.44|\n",
      "|        war|Schindler's List ...|      4.47|\n",
      "|    western|    High Noon (1952)|       4.1|\n",
      "+-----------+--------------------+----------+\n",
      "\n"
     ]
    }
   ],
   "source": [
    "spark.sql(\n",
    "    \"\"\"\n",
    "    SELECT\n",
    "        g.genre,\n",
    "        m.title,\n",
    "        ROUND(maxr.movie_rating, 2) top_rating\n",
    "    \n",
    "    FROM movie_rating_vw mr\n",
    "        JOIN (\n",
    "            -- gets MAX movie rating from each genre --\n",
    "            SELECT genre_id, MAX(movie_rating) movie_rating\n",
    "            FROM movie_rating_vw\n",
    "            GROUP BY genre_id\n",
    "            ) maxr ON mr.genre_id = maxr.genre_id AND mr.movie_rating = maxr.movie_rating\n",
    "        -- full movie details --\n",
    "        JOIN movie_df m ON mr.movie_id = m.movie_id\n",
    "        JOIN genre_df g ON mr.genre_id = g.genre_id\n",
    "    \n",
    "    ORDER BY g.genre, top_rating DESC\n",
    "    \"\"\"\n",
    ").show(30)"
   ]
  },
  {
   "cell_type": "markdown",
   "metadata": {},
   "source": [
    "### Top movies by year."
   ]
  },
  {
   "cell_type": "code",
   "execution_count": 17,
   "metadata": {
    "scrolled": false
   },
   "outputs": [
    {
     "name": "stdout",
     "output_type": "stream",
     "text": [
      "+----+--------------------+----------+\n",
      "|year|               title|top_rating|\n",
      "+----+--------------------+----------+\n",
      "|1998|     Star Kid (1997)|       5.0|\n",
      "|1997|  Prefontaine (1997)|       5.0|\n",
      "|1996|Santa with Muscle...|       5.0|\n",
      "|1996|Entertaining Ange...|       5.0|\n",
      "|1996|Marlene Dietrich:...|       5.0|\n",
      "|1996|Aiqing wansui (1994)|       5.0|\n",
      "|1996|Someone Else's Am...|       5.0|\n",
      "|1995|Usual Suspects, T...|      4.39|\n",
      "|1994|Great Day in Harl...|       5.0|\n",
      "|1993|Saint of Fort Was...|       5.0|\n",
      "|1992|Grand Day Out, A ...|      4.11|\n",
      "|1991|Silence of the La...|      4.29|\n",
      "|1990|Nikita (La Femme ...|      4.01|\n",
      "|1989|      Henry V (1989)|      4.14|\n",
      "|1988|Cinema Paradiso (...|      4.17|\n",
      "|1987|Princess Bride, T...|      4.17|\n",
      "|1986|Manon of the Spri...|      4.12|\n",
      "|1985|          Ran (1985)|       4.1|\n",
      "|1984|      Amadeus (1984)|      4.16|\n",
      "|1983|   Local Hero (1983)|      3.97|\n",
      "|1982| Blade Runner (1982)|      4.14|\n",
      "|1981|Raiders of the Lo...|      4.25|\n",
      "|1980|Empire Strikes Ba...|       4.2|\n",
      "|1979|Apocalypse Now (1...|      4.05|\n",
      "|1978|Deer Hunter, The ...|      3.83|\n",
      "|1977|    Star Wars (1977)|      4.36|\n",
      "|1976|       Carrie (1976)|       3.5|\n",
      "|1975|One Flew Over the...|      4.29|\n",
      "|1974|Godfather: Part I...|      4.19|\n",
      "|1973|   Sting, The (1973)|      4.06|\n",
      "+----+--------------------+----------+\n",
      "only showing top 30 rows\n",
      "\n"
     ]
    }
   ],
   "source": [
    "spark.sql(\n",
    "    \"\"\"\n",
    "    SELECT\n",
    "        YEAR(TO_DATE(m.release_date, 'dd-MMM-yyyy')) year,\n",
    "        m.title,\n",
    "        ROUND(maxr.movie_rating, 2) top_rating\n",
    "    \n",
    "    FROM movie_rating_date_vw mr\n",
    "        JOIN (\n",
    "            -- gets MAX movie rating from each YEAR --\n",
    "            SELECT release_date, MAX(movie_rating) movie_rating\n",
    "            FROM movie_rating_date_vw\n",
    "            GROUP BY release_date\n",
    "            ) maxr ON mr.release_date = maxr.release_date AND mr.movie_rating = maxr.movie_rating\n",
    "        \n",
    "        -- full movie details --\n",
    "        JOIN movie_df m ON mr.movie_id = m.movie_id\n",
    "    \n",
    "    ORDER BY mr.release_date DESC, top_rating DESC\n",
    "    \"\"\"\n",
    ").show(30)"
   ]
  },
  {
   "cell_type": "markdown",
   "metadata": {},
   "source": [
    "## Spark MLlib\n",
    "Machine learning with Spark.\n",
    "\n",
    "Collaborative Filtering with built-in Alternating Least Squares model."
   ]
  },
  {
   "cell_type": "code",
   "execution_count": 18,
   "metadata": {},
   "outputs": [
    {
     "name": "stdout",
     "output_type": "stream",
     "text": [
      "Training samples:80147\n",
      "Test samples:19853\n"
     ]
    }
   ],
   "source": [
    "# Train Test split 80-20%\n",
    "traing_set, test_set = rating_df.randomSplit([0.8, 0.2])\n",
    "\n",
    "print(f'Training samples:{traing_set.count()}')\n",
    "print(f'Test samples:{test_set.count()}')"
   ]
  },
  {
   "cell_type": "code",
   "execution_count": 19,
   "metadata": {},
   "outputs": [
    {
     "name": "stdout",
     "output_type": "stream",
     "text": [
      "alpha: alpha for implicit preference (default: 1.0)\n",
      "checkpointInterval: set checkpoint interval (>= 1) or disable checkpoint (-1). E.g. 10 means that the cache will get checkpointed every 10 iterations. Note: this setting will be ignored if the checkpoint directory is not set in the SparkContext. (default: 10)\n",
      "coldStartStrategy: strategy for dealing with unknown or new users/items at prediction time. This may be useful in cross-validation or production scenarios, for handling user/item ids the model has not seen in the training data. Supported values: 'nan', 'drop'. (default: nan)\n",
      "finalStorageLevel: StorageLevel for ALS model factors. (default: MEMORY_AND_DISK)\n",
      "implicitPrefs: whether to use implicit preference (default: False)\n",
      "intermediateStorageLevel: StorageLevel for intermediate datasets. Cannot be 'NONE'. (default: MEMORY_AND_DISK)\n",
      "itemCol: column name for item ids. Ids must be within the integer value range. (default: item, current: movie_id)\n",
      "maxIter: max number of iterations (>= 0). (default: 10, current: 5)\n",
      "nonnegative: whether to use nonnegative constraint for least squares (default: False)\n",
      "numItemBlocks: number of item blocks (default: 10)\n",
      "numUserBlocks: number of user blocks (default: 10)\n",
      "predictionCol: prediction column name. (default: prediction)\n",
      "rank: rank of the factorization (default: 10)\n",
      "ratingCol: column name for ratings (default: rating, current: rating)\n",
      "regParam: regularization parameter (>= 0). (default: 0.1, current: 0.01)\n",
      "seed: random seed. (default: 6397305492895021096)\n",
      "userCol: column name for user ids. Ids must be within the integer value range. (default: user, current: user_id)\n"
     ]
    }
   ],
   "source": [
    "# Spark has already a ALS (Alternating Least Squares) recommender model built-in\n",
    "als = ALS().setMaxIter(5)\\\n",
    "            .setRegParam(0.01)\\\n",
    "            .setUserCol(\"user_id\")\\\n",
    "            .setItemCol(\"movie_id\")\\\n",
    "            .setRatingCol(\"rating\")\n",
    "\n",
    "print(als.explainParams())\n",
    "alsModel = als.fit(traing_set)\n",
    "predictions = alsModel.transform(test_set)"
   ]
  },
  {
   "cell_type": "code",
   "execution_count": 20,
   "metadata": {
    "scrolled": true
   },
   "outputs": [
    {
     "name": "stdout",
     "output_type": "stream",
     "text": [
      "+-------+-----------------+\n",
      "|user_id|              col|\n",
      "+-------+-----------------+\n",
      "|     22| [592, 7.3787413]|\n",
      "|     22| [919, 7.1898932]|\n",
      "|     22|  [57, 6.6123157]|\n",
      "|     22| [543, 6.4810753]|\n",
      "|     22|[1463, 6.4714212]|\n",
      "|     23| [613, 5.7697434]|\n",
      "|     23| [1071, 5.740668]|\n",
      "|     23| [390, 5.7294116]|\n",
      "|     23| [1252, 5.659588]|\n",
      "|     23|[1591, 5.6058683]|\n",
      "+-------+-----------------+\n",
      "only showing top 10 rows\n",
      "\n"
     ]
    }
   ],
   "source": [
    "# getting N top movie_id recomendations from each user\n",
    "n = 5\n",
    "alsModel.recommendForAllUsers(n).selectExpr(\"user_id\", \"explode(recommendations)\").show(10)"
   ]
  }
 ],
 "metadata": {
  "kernelspec": {
   "display_name": "Python 3",
   "language": "python",
   "name": "python3"
  },
  "language_info": {
   "codemirror_mode": {
    "name": "ipython",
    "version": 3
   },
   "file_extension": ".py",
   "mimetype": "text/x-python",
   "name": "python",
   "nbconvert_exporter": "python",
   "pygments_lexer": "ipython3",
   "version": "3.7.3"
  }
 },
 "nbformat": 4,
 "nbformat_minor": 2
}
